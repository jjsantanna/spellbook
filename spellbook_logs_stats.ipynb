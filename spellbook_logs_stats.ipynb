{
 "cells": [
  {
   "cell_type": "code",
   "execution_count": 29,
   "id": "c0197fc2-19b0-4e24-9c26-4c67c6cb921b",
   "metadata": {},
   "outputs": [],
   "source": [
    "# !pip3 install pandas openpyxl plotly"
   ]
  },
  {
   "cell_type": "code",
   "execution_count": 109,
   "id": "0a520ff0-97c3-48fe-bbb5-b7faeb846ec9",
   "metadata": {},
   "outputs": [
    {
     "data": {
      "text/html": [
       "        <script type=\"text/javascript\">\n",
       "        window.PlotlyConfig = {MathJaxConfig: 'local'};\n",
       "        if (window.MathJax && window.MathJax.Hub && window.MathJax.Hub.Config) {window.MathJax.Hub.Config({SVG: {font: \"STIX-Web\"}});}\n",
       "        if (typeof require !== 'undefined') {\n",
       "        require.undef(\"plotly\");\n",
       "        requirejs.config({\n",
       "            paths: {\n",
       "                'plotly': ['https://cdn.plot.ly/plotly-2.32.0.min']\n",
       "            }\n",
       "        });\n",
       "        require(['plotly'], function(Plotly) {\n",
       "            window._Plotly = Plotly;\n",
       "        });\n",
       "        }\n",
       "        </script>\n",
       "        "
      ]
     },
     "metadata": {},
     "output_type": "display_data"
    }
   ],
   "source": [
    "import pandas as pd\n",
    "import re\n",
    "import json\n",
    "from urllib.parse import parse_qs, urlparse, unquote\n",
    "import plotly.express as px\n",
    "import plotly.offline as pyo\n",
    "pyo.init_notebook_mode(connected=True)\n",
    "\n",
    "pd.set_option('display.max_columns', None)\n",
    "pd.set_option('display.max_colwidth', None)"
   ]
  },
  {
   "cell_type": "code",
   "execution_count": 110,
   "id": "36f0e46c-3b84-4f0e-afce-6de15672a011",
   "metadata": {},
   "outputs": [],
   "source": [
    "log_file_path = 'all_logs/spellbook.log'"
   ]
  },
  {
   "cell_type": "code",
   "execution_count": 111,
   "id": "bc04210a-ffdd-41f6-83a7-1c681196b290",
   "metadata": {},
   "outputs": [],
   "source": [
    "def parse_log_entry(entry):\n",
    "    # Pattern for the main log entry structure\n",
    "    main_pattern = r'\\[pid: (\\d+)\\|app: (\\d+)\\|req: (\\d+)/(\\d+)\\] (\\d+\\.\\d+\\.\\d+\\.\\d+) \\(\\) \\{(\\d+) vars in (\\d+) bytes\\} \\[(.*?)\\] (\\w+) (.*?) => generated (\\d+) bytes in (\\d+) msecs(?: via (.*?))? \\((.*?)\\) (\\d+) headers in (\\d+) bytes \\((\\d+) switches on core (\\d+)\\)'\n",
    "    main_match = re.match(main_pattern, entry)\n",
    "\n",
    "    # Pattern for Elasticsearch warning\n",
    "    es_warning_pattern = r'WARNING:elasticsearch:(.*?) \\[status:(\\d+) request:(.*?)s\\]'\n",
    "    es_warning_match = re.match(es_warning_pattern, entry)\n",
    "\n",
    "    # Pattern for general warnings and errors\n",
    "    general_warning_pattern = r'(.*?):(\\d+): (.*?):\\n\\n(.*?)\\n\\n(.*?)\\n'\n",
    "    general_warning_match = re.match(general_warning_pattern, entry)\n",
    "\n",
    "    # Pattern for OSError\n",
    "    oserror_pattern = r'OSError: (.*)'\n",
    "    oserror_match = re.match(oserror_pattern, entry)\n",
    "\n",
    "    # Pattern for SIGPIPE errors\n",
    "    sigpipe_pattern = r'(\\w+ \\w+  \\d+ \\d+:\\d+:\\d+ \\d+) - SIGPIPE: (.*?) on request (.*?) \\(ip (.*?)\\) !!!'\n",
    "    sigpipe_match = re.match(sigpipe_pattern, entry)\n",
    "\n",
    "    if main_match:\n",
    "        return {\n",
    "            'type': 'main',\n",
    "            'pid': int(main_match.group(1)),\n",
    "            'app': int(main_match.group(2)),\n",
    "            'req_id': int(main_match.group(3)),\n",
    "            'req_total': int(main_match.group(4)),\n",
    "            'client_ip': main_match.group(5),\n",
    "            'vars_count': int(main_match.group(6)),\n",
    "            'vars_size': int(main_match.group(7)),\n",
    "            'timestamp': main_match.group(8),\n",
    "            'method': main_match.group(9),\n",
    "            'endpoint': main_match.group(10),\n",
    "            'response_size': int(main_match.group(11)),\n",
    "            'response_time': int(main_match.group(12)),\n",
    "            'via': main_match.group(13) if main_match.group(13) else '',\n",
    "            'http_version_status': main_match.group(14),\n",
    "            'headers_count': int(main_match.group(15)),\n",
    "            'headers_size': int(main_match.group(16)),\n",
    "            'switches': int(main_match.group(17)),\n",
    "            'core': int(main_match.group(18))\n",
    "        }\n",
    "    elif es_warning_match:\n",
    "        return {\n",
    "            'type': 'es_warning',\n",
    "            'message': es_warning_match.group(1),\n",
    "            'status': int(es_warning_match.group(2)),\n",
    "            'request_time': float(es_warning_match.group(3))\n",
    "        }\n",
    "    elif general_warning_match:\n",
    "        return {\n",
    "            'type': 'general_warning',\n",
    "            'file': general_warning_match.group(1),\n",
    "            'line': int(general_warning_match.group(2)),\n",
    "            'warning_type': general_warning_match.group(3),\n",
    "            'message': general_warning_match.group(4),\n",
    "            'details': general_warning_match.group(5)\n",
    "        }\n",
    "    elif oserror_match:\n",
    "        return {\n",
    "            'type': 'os_error',\n",
    "            'message': oserror_match.group(1)\n",
    "        }\n",
    "    elif sigpipe_match:\n",
    "        return {\n",
    "            'type': 'sigpipe_error',\n",
    "            'timestamp': sigpipe_match.group(1),\n",
    "            'error_message': sigpipe_match.group(2),\n",
    "            'request': sigpipe_match.group(3),\n",
    "            'client_ip': sigpipe_match.group(4)\n",
    "        }\n",
    "    else:\n",
    "        return None"
   ]
  },
  {
   "cell_type": "markdown",
   "id": "158f3ef2-0730-4ff1-8992-aa558f8f5bfb",
   "metadata": {},
   "source": [
    "## Loading the log file"
   ]
  },
  {
   "cell_type": "code",
   "execution_count": 112,
   "id": "ba42fe01-1666-4beb-a790-9664f35b54cb",
   "metadata": {},
   "outputs": [],
   "source": [
    "with open(log_file_path, 'r') as file:\n",
    "    log_entries = file.readlines()\n",
    "\n",
    "parsed_entries = [parse_log_entry(entry) for entry in log_entries if parse_log_entry(entry) is not None]\n",
    "\n",
    "df = pd.DataFrame(parsed_entries)"
   ]
  },
  {
   "cell_type": "markdown",
   "id": "ee3a0a9f-c3e8-497c-b8a2-2b46be428be4",
   "metadata": {},
   "source": [
    "# Splitting between API and Web interfaces"
   ]
  },
  {
   "cell_type": "code",
   "execution_count": 113,
   "id": "2c6c15d8-80b0-46af-9750-10e9b824a00a",
   "metadata": {},
   "outputs": [],
   "source": [
    "df['endpoint'] = df['endpoint'].fillna('')\n",
    "df_api = df[df['endpoint'].str.contains('/api/generate_document')]\n",
    "df_web = df[df['endpoint'].str.contains('/download_generated_document')]"
   ]
  },
  {
   "cell_type": "code",
   "execution_count": 116,
   "id": "43c73bf5-7925-4031-9c8f-15bc666cb689",
   "metadata": {},
   "outputs": [],
   "source": [
    "def parse_url(url):\n",
    "    parsed_url = urlparse(url)\n",
    "    params = parse_qs(parsed_url.query)\n",
    "    \n",
    "    # Extract the last directory of the URL path\n",
    "    category = parsed_url.path.split('/')[-1]\n",
    "\n",
    "    flat_params = {'category': category}\n",
    "    for key, value in params.items():\n",
    "        # Unquote the value to handle URL-encoded strings\n",
    "        unquoted_value = unquote(value[0])\n",
    "        \n",
    "        # Try to load JSON data if present\n",
    "        try:\n",
    "            json_value = json.loads(unquoted_value)\n",
    "            if isinstance(json_value, dict):\n",
    "                # Flatten nested JSON\n",
    "                for sub_key, sub_value in json_value.items():\n",
    "                    flat_params[f\"{key}.{sub_key}\"] = sub_value\n",
    "            else:\n",
    "                flat_params[key] = json_value\n",
    "        except json.JSONDecodeError:\n",
    "            flat_params[key] = unquoted_value\n",
    "\n",
    "    return flat_params"
   ]
  },
  {
   "cell_type": "code",
   "execution_count": 117,
   "id": "f4b88c53-d977-4b33-bd47-2dfd089b74eb",
   "metadata": {},
   "outputs": [],
   "source": [
    "df_web_processed = pd.DataFrame(df_web['endpoint'].apply(parse_url).tolist()).drop_duplicates()\n",
    "df_api_processed = pd.DataFrame(df_api['endpoint'].apply(parse_url).tolist()).drop_duplicates()"
   ]
  },
  {
   "cell_type": "markdown",
   "id": "0cd0667a-dc61-4aeb-9852-fa0e4eaf66be",
   "metadata": {},
   "source": [
    "## Generating stats"
   ]
  },
  {
   "cell_type": "code",
   "execution_count": 124,
   "id": "eb410a2f-9e0a-48e3-8d15-b55a3d42bbf9",
   "metadata": {},
   "outputs": [
    {
     "name": "stdout",
     "output_type": "stream",
     "text": [
      "Total documents: 120\n"
     ]
    }
   ],
   "source": [
    "print(\"Total documents:\", len(df_web_processed['category']) + len(df_api_processed['category']))"
   ]
  },
  {
   "cell_type": "code",
   "execution_count": 118,
   "id": "cb8eed1f-b939-4aa9-8ba2-658fbf3e98b0",
   "metadata": {},
   "outputs": [
    {
     "name": "stdout",
     "output_type": "stream",
     "text": [
      "Regarding API interface!\n",
      "Between 2024-07-01 and 2024-07-01\n",
      "\n"
     ]
    },
    {
     "data": {
      "text/html": [
       "<div>\n",
       "<style scoped>\n",
       "    .dataframe tbody tr th:only-of-type {\n",
       "        vertical-align: middle;\n",
       "    }\n",
       "\n",
       "    .dataframe tbody tr th {\n",
       "        vertical-align: top;\n",
       "    }\n",
       "\n",
       "    .dataframe thead th {\n",
       "        text-align: right;\n",
       "    }\n",
       "</style>\n",
       "<table border=\"1\" class=\"dataframe\">\n",
       "  <thead>\n",
       "    <tr style=\"text-align: right;\">\n",
       "      <th></th>\n",
       "      <th>category</th>\n",
       "      <th>count</th>\n",
       "    </tr>\n",
       "  </thead>\n",
       "  <tbody>\n",
       "    <tr>\n",
       "      <th>0</th>\n",
       "      <td>BlueTeamInternal</td>\n",
       "      <td>87</td>\n",
       "    </tr>\n",
       "  </tbody>\n",
       "</table>\n",
       "</div>"
      ],
      "text/plain": [
       "           category  count\n",
       "0  BlueTeamInternal     87"
      ]
     },
     "metadata": {},
     "output_type": "display_data"
    }
   ],
   "source": [
    "t0 = df_api_processed['data.generation_date'].min()\n",
    "t1 = df_api_processed['data.generation_date'].max()\n",
    "\n",
    "print(\"Regarding API interface!\")\n",
    "print(\"Between\",t0,\"and\",t1)\n",
    "print()\n",
    "display(df_api_processed['category'].value_counts().reset_index())\n"
   ]
  },
  {
   "cell_type": "code",
   "execution_count": 120,
   "id": "fb6623e1-c484-410e-b76a-ec7779df148e",
   "metadata": {},
   "outputs": [
    {
     "name": "stdout",
     "output_type": "stream",
     "text": [
      "Regarding Web interface!\n",
      "Between 2024-07-01 and 2024-07-02\n",
      "\n"
     ]
    },
    {
     "data": {
      "text/html": [
       "<div>\n",
       "<style scoped>\n",
       "    .dataframe tbody tr th:only-of-type {\n",
       "        vertical-align: middle;\n",
       "    }\n",
       "\n",
       "    .dataframe tbody tr th {\n",
       "        vertical-align: top;\n",
       "    }\n",
       "\n",
       "    .dataframe thead th {\n",
       "        text-align: right;\n",
       "    }\n",
       "</style>\n",
       "<table border=\"1\" class=\"dataframe\">\n",
       "  <thead>\n",
       "    <tr style=\"text-align: right;\">\n",
       "      <th></th>\n",
       "      <th>category</th>\n",
       "      <th>count</th>\n",
       "    </tr>\n",
       "  </thead>\n",
       "  <tbody>\n",
       "    <tr>\n",
       "      <th>0</th>\n",
       "      <td>BlueTeamInternal</td>\n",
       "      <td>7</td>\n",
       "    </tr>\n",
       "    <tr>\n",
       "      <th>1</th>\n",
       "      <td>General</td>\n",
       "      <td>5</td>\n",
       "    </tr>\n",
       "    <tr>\n",
       "      <th>2</th>\n",
       "      <td>CERT</td>\n",
       "      <td>5</td>\n",
       "    </tr>\n",
       "    <tr>\n",
       "      <th>3</th>\n",
       "      <td>BlueTeamSPO</td>\n",
       "      <td>4</td>\n",
       "    </tr>\n",
       "    <tr>\n",
       "      <th>4</th>\n",
       "      <td>SPO</td>\n",
       "      <td>4</td>\n",
       "    </tr>\n",
       "    <tr>\n",
       "      <th>5</th>\n",
       "      <td>NBS</td>\n",
       "      <td>3</td>\n",
       "    </tr>\n",
       "    <tr>\n",
       "      <th>6</th>\n",
       "      <td>RedTeam</td>\n",
       "      <td>2</td>\n",
       "    </tr>\n",
       "    <tr>\n",
       "      <th>7</th>\n",
       "      <td>BlueTeam</td>\n",
       "      <td>2</td>\n",
       "    </tr>\n",
       "    <tr>\n",
       "      <th>8</th>\n",
       "      <td>CERTFR</td>\n",
       "      <td>1</td>\n",
       "    </tr>\n",
       "  </tbody>\n",
       "</table>\n",
       "</div>"
      ],
      "text/plain": [
       "           category  count\n",
       "0  BlueTeamInternal      7\n",
       "1           General      5\n",
       "2              CERT      5\n",
       "3       BlueTeamSPO      4\n",
       "4               SPO      4\n",
       "5               NBS      3\n",
       "6           RedTeam      2\n",
       "7          BlueTeam      2\n",
       "8            CERTFR      1"
      ]
     },
     "execution_count": 120,
     "metadata": {},
     "output_type": "execute_result"
    }
   ],
   "source": [
    "df_web_processed['data.generation_date'] = df_web_processed['filename'].apply(lambda x: x.split(' ')[0])\n",
    "\n",
    "t0 = df_web_processed['data.generation_date'].min()\n",
    "t1 = df_web_processed['data.generation_date'].max()\n",
    "\n",
    "print(\"Regarding Web interface!\")\n",
    "print(\"Between\",t0,\"and\",t1)\n",
    "print()\n",
    "df_web_processed['category'].value_counts().reset_index()"
   ]
  }
 ],
 "metadata": {
  "kernelspec": {
   "display_name": "Python 3 (ipykernel)",
   "language": "python",
   "name": "python3"
  },
  "language_info": {
   "codemirror_mode": {
    "name": "ipython",
    "version": 3
   },
   "file_extension": ".py",
   "mimetype": "text/x-python",
   "name": "python",
   "nbconvert_exporter": "python",
   "pygments_lexer": "ipython3",
   "version": "3.12.4"
  }
 },
 "nbformat": 4,
 "nbformat_minor": 5
}
